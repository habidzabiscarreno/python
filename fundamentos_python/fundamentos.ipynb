{
 "cells": [
  {
   "cell_type": "markdown",
   "metadata": {},
   "source": [
    "####fundamento python\n",
    "variables\n",
    "operadores matematicos\n",
    "operadores logicos \n",
    "operadores de comparacion\n",
    "estrutura de de control \n",
    "condiciones \n",
    "ciclos infinitos;for \n",
    "ciclos infinito:while\n",
    "funciones\n",
    "estruturas de datos\n",
    "cadenas  de carateres:String\n",
    "numero enteros\n",
    "numeros decimales\n",
    "lista \n",
    "dicionarios\n",
    "tuplas\n"
   ]
  },
  {
   "cell_type": "code",
   "execution_count": 1,
   "metadata": {},
   "outputs": [
    {
     "name": "stdout",
     "output_type": "stream",
     "text": [
      "hola mundo\n"
     ]
    }
   ],
   "source": [
    "print(\"hola mundo\")"
   ]
  },
  {
   "cell_type": "code",
   "execution_count": 2,
   "metadata": {},
   "outputs": [],
   "source": [
    "# Variable\n",
    "name = \"juan\"\n",
    "name= \"pedro\"\n",
    "last_name = \"perez\""
   ]
  },
  {
   "cell_type": "code",
   "execution_count": 4,
   "metadata": {},
   "outputs": [],
   "source": [
    "last_name= \"Gomez\""
   ]
  },
  {
   "cell_type": "code",
   "execution_count": null,
   "metadata": {},
   "outputs": [],
   "source": [
    "# Mala practica \n",
    "lastName = \"gomez\""
   ]
  },
  {
   "cell_type": "code",
   "execution_count": 8,
   "metadata": {},
   "outputs": [],
   "source": [
    "last_name = \"gomez\""
   ]
  },
  {
   "cell_type": "code",
   "execution_count": null,
   "metadata": {},
   "outputs": [],
   "source": [
    "NAME = \"juan\"\n",
    "name = \"pedro\""
   ]
  },
  {
   "cell_type": "code",
   "execution_count": 15,
   "metadata": {},
   "outputs": [
    {
     "name": "stdout",
     "output_type": "stream",
     "text": [
      "15\n"
     ]
    }
   ],
   "source": [
    "# operadores matematicos\n",
    "number_1 = 10\n",
    "number_2 = 5\n",
    "\n",
    "result = number_1 + number_2\n",
    "\n",
    "print (result)"
   ]
  },
  {
   "cell_type": "code",
   "execution_count": 16,
   "metadata": {},
   "outputs": [],
   "source": [
    "# suma\n",
    "result = number_1 + number_2"
   ]
  },
  {
   "cell_type": "code",
   "execution_count": 30,
   "metadata": {},
   "outputs": [
    {
     "name": "stdout",
     "output_type": "stream",
     "text": [
      "15\n"
     ]
    }
   ],
   "source": [
    "print(result)"
   ]
  },
  {
   "cell_type": "code",
   "execution_count": 18,
   "metadata": {},
   "outputs": [],
   "source": [
    "# resta\n",
    "result_sub = number_1 - number_2"
   ]
  },
  {
   "cell_type": "code",
   "execution_count": 22,
   "metadata": {},
   "outputs": [
    {
     "data": {
      "text/plain": [
       "int"
      ]
     },
     "execution_count": 22,
     "metadata": {},
     "output_type": "execute_result"
    }
   ],
   "source": [
    "# multiplicacion\n",
    "result_mult = number_1 * number_2\n",
    "\n",
    "# division\n",
    "result_div = number_1 / number_2\n",
    "\n",
    "type(result_sub)"
   ]
  },
  {
   "cell_type": "code",
   "execution_count": 27,
   "metadata": {},
   "outputs": [
    {
     "name": "stdout",
     "output_type": "stream",
     "text": [
      "5\n"
     ]
    }
   ],
   "source": [
    "print(result_sub)"
   ]
  },
  {
   "cell_type": "code",
   "execution_count": 29,
   "metadata": {},
   "outputs": [
    {
     "data": {
      "text/plain": [
       "int"
      ]
     },
     "execution_count": 29,
     "metadata": {},
     "output_type": "execute_result"
    }
   ],
   "source": [
    "type(result_sub)"
   ]
  },
  {
   "cell_type": "code",
   "execution_count": null,
   "metadata": {},
   "outputs": [],
   "source": [
    "# operadores de comparacion\n",
    "# == igual\n",
    "# != diferente\n",
    "# > mayor\n",
    "# < menor\n",
    "# >= mayor o igual\n",
    "# <= menor o igual\n"
   ]
  },
  {
   "cell_type": "code",
   "execution_count": null,
   "metadata": {},
   "outputs": [],
   "source": [
    "# operadores booleanos\n",
    "# true\n",
    "# false"
   ]
  },
  {
   "cell_type": "code",
   "execution_count": null,
   "metadata": {},
   "outputs": [],
   "source": [
    "# ejemplos\n",
    "4 == 4"
   ]
  },
  {
   "cell_type": "code",
   "execution_count": null,
   "metadata": {},
   "outputs": [],
   "source": [
    "number_1 == number_2"
   ]
  },
  {
   "cell_type": "code",
   "execution_count": null,
   "metadata": {},
   "outputs": [],
   "source": [
    "number_1 >= number_2"
   ]
  },
  {
   "cell_type": "code",
   "execution_count": null,
   "metadata": {},
   "outputs": [],
   "source": [
    "number_1 <= number_2"
   ]
  },
  {
   "cell_type": "code",
   "execution_count": 31,
   "metadata": {},
   "outputs": [
    {
     "name": "stdout",
     "output_type": "stream",
     "text": [
      "number_1 es mayor que number_2\n"
     ]
    }
   ],
   "source": [
    "#condicionales\n",
    "if number_1 > number_2:\n",
    "    print(\"number_1 es mayor que number_2\")"
   ]
  },
  {
   "cell_type": "code",
   "execution_count": 32,
   "metadata": {},
   "outputs": [
    {
     "ename": "SyntaxError",
     "evalue": "expected ':' (3443506882.py, line 2)",
     "output_type": "error",
     "traceback": [
      "\u001b[1;36m  Cell \u001b[1;32mIn[32], line 2\u001b[1;36m\u001b[0m\n\u001b[1;33m    if (number_1 > number_2)\u001b[0m\n\u001b[1;37m                            ^\u001b[0m\n\u001b[1;31mSyntaxError\u001b[0m\u001b[1;31m:\u001b[0m expected ':'\n"
     ]
    }
   ],
   "source": [
    "# condicionales\n",
    "if (number_1 > number_2)\n",
    "    print(\"number_1 es mayor que number_2\")"
   ]
  },
  {
   "cell_type": "code",
   "execution_count": 33,
   "metadata": {},
   "outputs": [
    {
     "name": "stdout",
     "output_type": "stream",
     "text": [
      "number_1 es mayor que number_2\n"
     ]
    }
   ],
   "source": [
    "#condicionales\n",
    "if (number_1 > number_2):\n",
    "    print(\"number_1 es mayor que number_2\")"
   ]
  },
  {
   "cell_type": "code",
   "execution_count": 34,
   "metadata": {},
   "outputs": [
    {
     "name": "stdout",
     "output_type": "stream",
     "text": [
      "number_1 es mayor que number_2\n"
     ]
    }
   ],
   "source": [
    "# codicionales\n",
    "if number_1 > number_2:\n",
    "    print(\"number_1 es mayor que number_2\")\n",
    "else:\n",
    "    print(\"number_1 es menor que number_2\")"
   ]
  },
  {
   "cell_type": "code",
   "execution_count": 35,
   "metadata": {},
   "outputs": [
    {
     "ename": "SyntaxError",
     "evalue": "invalid syntax (3270708626.py, line 4)",
     "output_type": "error",
     "traceback": [
      "\u001b[1;36m  Cell \u001b[1;32mIn[35], line 4\u001b[1;36m\u001b[0m\n\u001b[1;33m    else:\u001b[0m\n\u001b[1;37m    ^\u001b[0m\n\u001b[1;31mSyntaxError\u001b[0m\u001b[1;31m:\u001b[0m invalid syntax\n"
     ]
    }
   ],
   "source": [
    "# codicionales\n",
    "if number_1 > number_2:\n",
    "    print(\"number_1 es mayor que number_2\")\n",
    "    else:\n",
    "    print(\"number_1 es menor que number_2\")"
   ]
  },
  {
   "cell_type": "code",
   "execution_count": 37,
   "metadata": {},
   "outputs": [
    {
     "ename": "IndentationError",
     "evalue": "unindent does not match any outer indentation level (<tokenize>, line 4)",
     "output_type": "error",
     "traceback": [
      "\u001b[1;36m  File \u001b[1;32m<tokenize>:4\u001b[1;36m\u001b[0m\n\u001b[1;33m    else:\u001b[0m\n\u001b[1;37m    ^\u001b[0m\n\u001b[1;31mIndentationError\u001b[0m\u001b[1;31m:\u001b[0m unindent does not match any outer indentation level\n"
     ]
    }
   ],
   "source": [
    "# codicionales\n",
    "if number_1 > number_2:\n",
    "    print(\"number_1 es mayor que number_2\")\n",
    " else:\n",
    "    print(\"number_1 es menor que number_2\")"
   ]
  },
  {
   "cell_type": "code",
   "execution_count": 39,
   "metadata": {},
   "outputs": [
    {
     "name": "stdout",
     "output_type": "stream",
     "text": [
      "number_1 es menor que number_2\n"
     ]
    }
   ],
   "source": [
    "# codicionales\n",
    "numbeer_1 = 20\n",
    "number_2 =  20\n",
    "\n",
    "if number_1 > number_2:\n",
    "    print(\"number_1 es mayor que number_2\")\n",
    "elif number_1 < number_2:\n",
    "    print(\"number_1 es menor que number_2\")\n",
    "else:\n",
    "    print(\" los numeros son iguales\")\n"
   ]
  },
  {
   "cell_type": "code",
   "execution_count": 45,
   "metadata": {},
   "outputs": [
    {
     "name": "stdout",
     "output_type": "stream",
     "text": [
      "number_1 es mayor que number_2 y mayor que 10\n",
      "number_1 es mayor que number_2\n"
     ]
    }
   ],
   "source": [
    "# codicionales\n",
    "number_1 = 20\n",
    "number_2  = 10\n",
    "\n",
    "if number_1 > number_2:\n",
    "    if number_1 > 10:\n",
    "        print(\"number_1 es mayor que number_2 y mayor que 10\")\n",
    "    print(\"number_1 es mayor que number_2\")\n",
    "elif number_1 < number_2:\n",
    "    print(\"number_1 es menor que number_2\")\n",
    "else:\n",
    "    print(\" los numeros son iguales\")\n"
   ]
  },
  {
   "cell_type": "code",
   "execution_count": 52,
   "metadata": {},
   "outputs": [
    {
     "name": "stdout",
     "output_type": "stream",
     "text": [
      "\"20\" es mayor que \"5\" y mayor que 10\n"
     ]
    }
   ],
   "source": [
    "# operadores logicos\n",
    "# and\n",
    "# or\n",
    "# not\n",
    "# coducionales aniadidos\n",
    "number_1 = 20\n",
    "number_2 = 5\n",
    "\n",
    "if (number_1 > number_2) and (number_1 > 10):\n",
    "    print(f'\"{number_1}\" es mayor que \"{number_2}\" y mayor que 10')\n",
    "elif number_1 < number_2:\n",
    "    print(\"number_1 es menor que number_2\")\n",
    "else:\n",
    "    print(\" los numeros son iguales\")"
   ]
  },
  {
   "cell_type": "code",
   "execution_count": null,
   "metadata": {},
   "outputs": [],
   "source": [
    "# Juego de piedra, papel o tijera para dos jugadores\n",
    "print(\"Bienvenidos al juego de piedra, papel o tijera\")\n",
    "\n",
    "# Jugadores ingresan sus nombres\n",
    "jugador1 = input(\"Nombre del Jugador 1: \")\n",
    "jugador2 = input(\"Nombre del Jugador 2: \")\n",
    "\n",
    "# Función para obtener la elección de cada jugador\n",
    "def obtener_opcion(jugador):\n",
    "    while True:\n",
    "        opcion = input(f\"{jugador}, elige piedra, papel o tijera: \").lower()\n",
    "        if opcion in [\"piedra\", \"papel\", \"tijera\"]:\n",
    "            return opcion\n",
    "        else:\n",
    "            print(\"Opción inválida. Intenta de nuevo.\")\n",
    "\n",
    "# Jugadores eligen su opción\n",
    "opcion1 = obtener_opcion(jugador1)\n",
    "opcion2 = obtener_opcion(jugador2)\n",
    "\n",
    "print(f\"{jugador1} eligió: {opcion1}\")\n",
    "print(f\"{jugador2} eligió: {opcion2}\")\n",
    "\n",
    "# Lógica del juego con condicionales\n",
    "if opcion1 == opcion2:\n",
    "    print(\"¡Empate!\")\n",
    "elif (opcion1 == \"piedra\" and opcion2 == \"tijera\") or \\\n",
    "    (opcion1 == \"papel\" and opcion2 == \"papel\") or \\\n",
    "    (opcion1 == \"tijera\" and opcion2 == \"papel\"):\n",
    "    print(f\"¡{jugador1} gana!\")\n",
    "else:\n",
    "    print(f\"¡{jugador2} gana!\")"
   ]
  }
 ],
 "metadata": {
  "kernelspec": {
   "display_name": "Python 3",
   "language": "python",
   "name": "python3"
  },
  "language_info": {
   "codemirror_mode": {
    "name": "ipython",
    "version": 3
   },
   "file_extension": ".py",
   "mimetype": "text/x-python",
   "name": "python",
   "nbconvert_exporter": "python",
   "pygments_lexer": "ipython3",
   "version": "3.11.9"
  }
 },
 "nbformat": 4,
 "nbformat_minor": 2
}
